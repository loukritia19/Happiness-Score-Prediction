{
  "cells": [
    {
      "cell_type": "code",
      "execution_count": null,
      "metadata": {
        "id": "kVi5vdbU58GD"
      },
      "outputs": [],
      "source": [
        "import numpy as np \n",
        "import pandas as pd \n",
        "import matplotlib.pyplot as plt\n",
        "import seaborn as sns\n",
        "from datetime import datetime as dt\n",
        "from sklearn.model_selection import GridSearchCV\n",
        "from sklearn.svm import SVR\n",
        "sns.set_style(\"whitegrid\")"
      ]
    },
    {
      "cell_type": "markdown",
      "metadata": {
        "id": "jx-6bWxafQeK"
      },
      "source": [
        "#Import Data"
      ]
    },
    {
      "cell_type": "code",
      "execution_count": null,
      "metadata": {
        "id": "DE2GE20X7S3p"
      },
      "outputs": [],
      "source": [
        "df = pd.read_csv(\"world-happiness-report.csv\")"
      ]
    },
    {
      "cell_type": "code",
      "execution_count": null,
      "metadata": {
        "colab": {
          "base_uri": "https://localhost:8080/",
          "height": 285
        },
        "id": "DPTeCV27-rEr",
        "outputId": "4e4f108d-72b7-4714-dd1b-81aae592355a"
      },
      "outputs": [
        {
          "data": {
            "text/html": [
              "\n",
              "  <div id=\"df-35b77fad-8fe4-4e4d-8af1-f6f4e094f933\">\n",
              "    <div class=\"colab-df-container\">\n",
              "      <div>\n",
              "<style scoped>\n",
              "    .dataframe tbody tr th:only-of-type {\n",
              "        vertical-align: middle;\n",
              "    }\n",
              "\n",
              "    .dataframe tbody tr th {\n",
              "        vertical-align: top;\n",
              "    }\n",
              "\n",
              "    .dataframe thead th {\n",
              "        text-align: right;\n",
              "    }\n",
              "</style>\n",
              "<table border=\"1\" class=\"dataframe\">\n",
              "  <thead>\n",
              "    <tr style=\"text-align: right;\">\n",
              "      <th></th>\n",
              "      <th>Country name</th>\n",
              "      <th>year</th>\n",
              "      <th>Life Ladder</th>\n",
              "      <th>Log GDP per capita</th>\n",
              "      <th>Social support</th>\n",
              "      <th>Healthy life expectancy at birth</th>\n",
              "      <th>Freedom to make life choices</th>\n",
              "      <th>Generosity</th>\n",
              "      <th>Perceptions of corruption</th>\n",
              "      <th>Positive affect</th>\n",
              "      <th>Negative affect</th>\n",
              "    </tr>\n",
              "  </thead>\n",
              "  <tbody>\n",
              "    <tr>\n",
              "      <th>0</th>\n",
              "      <td>Afghanistan</td>\n",
              "      <td>2008</td>\n",
              "      <td>3.724</td>\n",
              "      <td>7.370</td>\n",
              "      <td>0.451</td>\n",
              "      <td>50.80</td>\n",
              "      <td>0.718</td>\n",
              "      <td>0.168</td>\n",
              "      <td>0.882</td>\n",
              "      <td>0.518</td>\n",
              "      <td>0.258</td>\n",
              "    </tr>\n",
              "    <tr>\n",
              "      <th>1</th>\n",
              "      <td>Afghanistan</td>\n",
              "      <td>2009</td>\n",
              "      <td>4.402</td>\n",
              "      <td>7.540</td>\n",
              "      <td>0.552</td>\n",
              "      <td>51.20</td>\n",
              "      <td>0.679</td>\n",
              "      <td>0.190</td>\n",
              "      <td>0.850</td>\n",
              "      <td>0.584</td>\n",
              "      <td>0.237</td>\n",
              "    </tr>\n",
              "    <tr>\n",
              "      <th>2</th>\n",
              "      <td>Afghanistan</td>\n",
              "      <td>2010</td>\n",
              "      <td>4.758</td>\n",
              "      <td>7.647</td>\n",
              "      <td>0.539</td>\n",
              "      <td>51.60</td>\n",
              "      <td>0.600</td>\n",
              "      <td>0.121</td>\n",
              "      <td>0.707</td>\n",
              "      <td>0.618</td>\n",
              "      <td>0.275</td>\n",
              "    </tr>\n",
              "    <tr>\n",
              "      <th>3</th>\n",
              "      <td>Afghanistan</td>\n",
              "      <td>2011</td>\n",
              "      <td>3.832</td>\n",
              "      <td>7.620</td>\n",
              "      <td>0.521</td>\n",
              "      <td>51.92</td>\n",
              "      <td>0.496</td>\n",
              "      <td>0.162</td>\n",
              "      <td>0.731</td>\n",
              "      <td>0.611</td>\n",
              "      <td>0.267</td>\n",
              "    </tr>\n",
              "    <tr>\n",
              "      <th>4</th>\n",
              "      <td>Afghanistan</td>\n",
              "      <td>2012</td>\n",
              "      <td>3.783</td>\n",
              "      <td>7.705</td>\n",
              "      <td>0.521</td>\n",
              "      <td>52.24</td>\n",
              "      <td>0.531</td>\n",
              "      <td>0.236</td>\n",
              "      <td>0.776</td>\n",
              "      <td>0.710</td>\n",
              "      <td>0.268</td>\n",
              "    </tr>\n",
              "  </tbody>\n",
              "</table>\n",
              "</div>\n",
              "      <button class=\"colab-df-convert\" onclick=\"convertToInteractive('df-35b77fad-8fe4-4e4d-8af1-f6f4e094f933')\"\n",
              "              title=\"Convert this dataframe to an interactive table.\"\n",
              "              style=\"display:none;\">\n",
              "        \n",
              "  <svg xmlns=\"http://www.w3.org/2000/svg\" height=\"24px\"viewBox=\"0 0 24 24\"\n",
              "       width=\"24px\">\n",
              "    <path d=\"M0 0h24v24H0V0z\" fill=\"none\"/>\n",
              "    <path d=\"M18.56 5.44l.94 2.06.94-2.06 2.06-.94-2.06-.94-.94-2.06-.94 2.06-2.06.94zm-11 1L8.5 8.5l.94-2.06 2.06-.94-2.06-.94L8.5 2.5l-.94 2.06-2.06.94zm10 10l.94 2.06.94-2.06 2.06-.94-2.06-.94-.94-2.06-.94 2.06-2.06.94z\"/><path d=\"M17.41 7.96l-1.37-1.37c-.4-.4-.92-.59-1.43-.59-.52 0-1.04.2-1.43.59L10.3 9.45l-7.72 7.72c-.78.78-.78 2.05 0 2.83L4 21.41c.39.39.9.59 1.41.59.51 0 1.02-.2 1.41-.59l7.78-7.78 2.81-2.81c.8-.78.8-2.07 0-2.86zM5.41 20L4 18.59l7.72-7.72 1.47 1.35L5.41 20z\"/>\n",
              "  </svg>\n",
              "      </button>\n",
              "      \n",
              "  <style>\n",
              "    .colab-df-container {\n",
              "      display:flex;\n",
              "      flex-wrap:wrap;\n",
              "      gap: 12px;\n",
              "    }\n",
              "\n",
              "    .colab-df-convert {\n",
              "      background-color: #E8F0FE;\n",
              "      border: none;\n",
              "      border-radius: 50%;\n",
              "      cursor: pointer;\n",
              "      display: none;\n",
              "      fill: #1967D2;\n",
              "      height: 32px;\n",
              "      padding: 0 0 0 0;\n",
              "      width: 32px;\n",
              "    }\n",
              "\n",
              "    .colab-df-convert:hover {\n",
              "      background-color: #E2EBFA;\n",
              "      box-shadow: 0px 1px 2px rgba(60, 64, 67, 0.3), 0px 1px 3px 1px rgba(60, 64, 67, 0.15);\n",
              "      fill: #174EA6;\n",
              "    }\n",
              "\n",
              "    [theme=dark] .colab-df-convert {\n",
              "      background-color: #3B4455;\n",
              "      fill: #D2E3FC;\n",
              "    }\n",
              "\n",
              "    [theme=dark] .colab-df-convert:hover {\n",
              "      background-color: #434B5C;\n",
              "      box-shadow: 0px 1px 3px 1px rgba(0, 0, 0, 0.15);\n",
              "      filter: drop-shadow(0px 1px 2px rgba(0, 0, 0, 0.3));\n",
              "      fill: #FFFFFF;\n",
              "    }\n",
              "  </style>\n",
              "\n",
              "      <script>\n",
              "        const buttonEl =\n",
              "          document.querySelector('#df-35b77fad-8fe4-4e4d-8af1-f6f4e094f933 button.colab-df-convert');\n",
              "        buttonEl.style.display =\n",
              "          google.colab.kernel.accessAllowed ? 'block' : 'none';\n",
              "\n",
              "        async function convertToInteractive(key) {\n",
              "          const element = document.querySelector('#df-35b77fad-8fe4-4e4d-8af1-f6f4e094f933');\n",
              "          const dataTable =\n",
              "            await google.colab.kernel.invokeFunction('convertToInteractive',\n",
              "                                                     [key], {});\n",
              "          if (!dataTable) return;\n",
              "\n",
              "          const docLinkHtml = 'Like what you see? Visit the ' +\n",
              "            '<a target=\"_blank\" href=https://colab.research.google.com/notebooks/data_table.ipynb>data table notebook</a>'\n",
              "            + ' to learn more about interactive tables.';\n",
              "          element.innerHTML = '';\n",
              "          dataTable['output_type'] = 'display_data';\n",
              "          await google.colab.output.renderOutput(dataTable, element);\n",
              "          const docLink = document.createElement('div');\n",
              "          docLink.innerHTML = docLinkHtml;\n",
              "          element.appendChild(docLink);\n",
              "        }\n",
              "      </script>\n",
              "    </div>\n",
              "  </div>\n",
              "  "
            ],
            "text/plain": [
              "  Country name  year  Life Ladder  Log GDP per capita  Social support  \\\n",
              "0  Afghanistan  2008        3.724               7.370           0.451   \n",
              "1  Afghanistan  2009        4.402               7.540           0.552   \n",
              "2  Afghanistan  2010        4.758               7.647           0.539   \n",
              "3  Afghanistan  2011        3.832               7.620           0.521   \n",
              "4  Afghanistan  2012        3.783               7.705           0.521   \n",
              "\n",
              "   Healthy life expectancy at birth  Freedom to make life choices  Generosity  \\\n",
              "0                             50.80                         0.718       0.168   \n",
              "1                             51.20                         0.679       0.190   \n",
              "2                             51.60                         0.600       0.121   \n",
              "3                             51.92                         0.496       0.162   \n",
              "4                             52.24                         0.531       0.236   \n",
              "\n",
              "   Perceptions of corruption  Positive affect  Negative affect  \n",
              "0                      0.882            0.518            0.258  \n",
              "1                      0.850            0.584            0.237  \n",
              "2                      0.707            0.618            0.275  \n",
              "3                      0.731            0.611            0.267  \n",
              "4                      0.776            0.710            0.268  "
            ]
          },
          "execution_count": 6,
          "metadata": {},
          "output_type": "execute_result"
        }
      ],
      "source": [
        "df.head()"
      ]
    },
    {
      "cell_type": "markdown",
      "metadata": {
        "id": "wiGqrcUAfLPT"
      },
      "source": [
        "#Importing list of regions"
      ]
    },
    {
      "cell_type": "code",
      "execution_count": null,
      "metadata": {
        "id": "xswD43XHe_ne"
      },
      "outputs": [],
      "source": [
        "df_region=pd.read_csv(\"List_of_countries_by_regional_classification_1.csv\")"
      ]
    },
    {
      "cell_type": "code",
      "execution_count": null,
      "metadata": {
        "colab": {
          "base_uri": "https://localhost:8080/",
          "height": 206
        },
        "id": "EA0IYqjFfncN",
        "outputId": "0a6b9aa9-ac3b-46aa-c992-e14b4dcd184a"
      },
      "outputs": [
        {
          "data": {
            "text/html": [
              "\n",
              "  <div id=\"df-d0f149e3-548a-4e78-9809-9ea346d55907\">\n",
              "    <div class=\"colab-df-container\">\n",
              "      <div>\n",
              "<style scoped>\n",
              "    .dataframe tbody tr th:only-of-type {\n",
              "        vertical-align: middle;\n",
              "    }\n",
              "\n",
              "    .dataframe tbody tr th {\n",
              "        vertical-align: top;\n",
              "    }\n",
              "\n",
              "    .dataframe thead th {\n",
              "        text-align: right;\n",
              "    }\n",
              "</style>\n",
              "<table border=\"1\" class=\"dataframe\">\n",
              "  <thead>\n",
              "    <tr style=\"text-align: right;\">\n",
              "      <th></th>\n",
              "      <th>Country</th>\n",
              "      <th>Region</th>\n",
              "      <th>Global South</th>\n",
              "    </tr>\n",
              "  </thead>\n",
              "  <tbody>\n",
              "    <tr>\n",
              "      <th>0</th>\n",
              "      <td>Andorra</td>\n",
              "      <td>Europe</td>\n",
              "      <td>Global North</td>\n",
              "    </tr>\n",
              "    <tr>\n",
              "      <th>1</th>\n",
              "      <td>United Arab Emirates</td>\n",
              "      <td>Middle east</td>\n",
              "      <td>Global South</td>\n",
              "    </tr>\n",
              "    <tr>\n",
              "      <th>2</th>\n",
              "      <td>Afghanistan</td>\n",
              "      <td>Asia &amp; Pacific</td>\n",
              "      <td>Global South</td>\n",
              "    </tr>\n",
              "    <tr>\n",
              "      <th>3</th>\n",
              "      <td>Antigua and Barbuda</td>\n",
              "      <td>South/Latin America</td>\n",
              "      <td>Global South</td>\n",
              "    </tr>\n",
              "    <tr>\n",
              "      <th>4</th>\n",
              "      <td>Anguilla</td>\n",
              "      <td>South/Latin America</td>\n",
              "      <td>Global South</td>\n",
              "    </tr>\n",
              "  </tbody>\n",
              "</table>\n",
              "</div>\n",
              "      <button class=\"colab-df-convert\" onclick=\"convertToInteractive('df-d0f149e3-548a-4e78-9809-9ea346d55907')\"\n",
              "              title=\"Convert this dataframe to an interactive table.\"\n",
              "              style=\"display:none;\">\n",
              "        \n",
              "  <svg xmlns=\"http://www.w3.org/2000/svg\" height=\"24px\"viewBox=\"0 0 24 24\"\n",
              "       width=\"24px\">\n",
              "    <path d=\"M0 0h24v24H0V0z\" fill=\"none\"/>\n",
              "    <path d=\"M18.56 5.44l.94 2.06.94-2.06 2.06-.94-2.06-.94-.94-2.06-.94 2.06-2.06.94zm-11 1L8.5 8.5l.94-2.06 2.06-.94-2.06-.94L8.5 2.5l-.94 2.06-2.06.94zm10 10l.94 2.06.94-2.06 2.06-.94-2.06-.94-.94-2.06-.94 2.06-2.06.94z\"/><path d=\"M17.41 7.96l-1.37-1.37c-.4-.4-.92-.59-1.43-.59-.52 0-1.04.2-1.43.59L10.3 9.45l-7.72 7.72c-.78.78-.78 2.05 0 2.83L4 21.41c.39.39.9.59 1.41.59.51 0 1.02-.2 1.41-.59l7.78-7.78 2.81-2.81c.8-.78.8-2.07 0-2.86zM5.41 20L4 18.59l7.72-7.72 1.47 1.35L5.41 20z\"/>\n",
              "  </svg>\n",
              "      </button>\n",
              "      \n",
              "  <style>\n",
              "    .colab-df-container {\n",
              "      display:flex;\n",
              "      flex-wrap:wrap;\n",
              "      gap: 12px;\n",
              "    }\n",
              "\n",
              "    .colab-df-convert {\n",
              "      background-color: #E8F0FE;\n",
              "      border: none;\n",
              "      border-radius: 50%;\n",
              "      cursor: pointer;\n",
              "      display: none;\n",
              "      fill: #1967D2;\n",
              "      height: 32px;\n",
              "      padding: 0 0 0 0;\n",
              "      width: 32px;\n",
              "    }\n",
              "\n",
              "    .colab-df-convert:hover {\n",
              "      background-color: #E2EBFA;\n",
              "      box-shadow: 0px 1px 2px rgba(60, 64, 67, 0.3), 0px 1px 3px 1px rgba(60, 64, 67, 0.15);\n",
              "      fill: #174EA6;\n",
              "    }\n",
              "\n",
              "    [theme=dark] .colab-df-convert {\n",
              "      background-color: #3B4455;\n",
              "      fill: #D2E3FC;\n",
              "    }\n",
              "\n",
              "    [theme=dark] .colab-df-convert:hover {\n",
              "      background-color: #434B5C;\n",
              "      box-shadow: 0px 1px 3px 1px rgba(0, 0, 0, 0.15);\n",
              "      filter: drop-shadow(0px 1px 2px rgba(0, 0, 0, 0.3));\n",
              "      fill: #FFFFFF;\n",
              "    }\n",
              "  </style>\n",
              "\n",
              "      <script>\n",
              "        const buttonEl =\n",
              "          document.querySelector('#df-d0f149e3-548a-4e78-9809-9ea346d55907 button.colab-df-convert');\n",
              "        buttonEl.style.display =\n",
              "          google.colab.kernel.accessAllowed ? 'block' : 'none';\n",
              "\n",
              "        async function convertToInteractive(key) {\n",
              "          const element = document.querySelector('#df-d0f149e3-548a-4e78-9809-9ea346d55907');\n",
              "          const dataTable =\n",
              "            await google.colab.kernel.invokeFunction('convertToInteractive',\n",
              "                                                     [key], {});\n",
              "          if (!dataTable) return;\n",
              "\n",
              "          const docLinkHtml = 'Like what you see? Visit the ' +\n",
              "            '<a target=\"_blank\" href=https://colab.research.google.com/notebooks/data_table.ipynb>data table notebook</a>'\n",
              "            + ' to learn more about interactive tables.';\n",
              "          element.innerHTML = '';\n",
              "          dataTable['output_type'] = 'display_data';\n",
              "          await google.colab.output.renderOutput(dataTable, element);\n",
              "          const docLink = document.createElement('div');\n",
              "          docLink.innerHTML = docLinkHtml;\n",
              "          element.appendChild(docLink);\n",
              "        }\n",
              "      </script>\n",
              "    </div>\n",
              "  </div>\n",
              "  "
            ],
            "text/plain": [
              "                Country               Region  Global South\n",
              "0               Andorra               Europe  Global North\n",
              "1  United Arab Emirates          Middle east  Global South\n",
              "2           Afghanistan       Asia & Pacific  Global South\n",
              "3   Antigua and Barbuda  South/Latin America  Global South\n",
              "4              Anguilla  South/Latin America  Global South"
            ]
          },
          "execution_count": 8,
          "metadata": {},
          "output_type": "execute_result"
        }
      ],
      "source": [
        "df_region.head()"
      ]
    },
    {
      "cell_type": "markdown",
      "metadata": {
        "id": "7kdSrFUzexmT"
      },
      "source": [
        "Creating a new column with Country's region"
      ]
    },
    {
      "cell_type": "code",
      "execution_count": null,
      "metadata": {
        "id": "p6NbYrGBA0JL"
      },
      "outputs": [],
      "source": [
        "region=[]\n",
        "for index, row in df.iterrows():\n",
        "    region.append(df_region[df_region[\"Country\"]==row['Country name']].squeeze()['Region'])\n",
        "\n",
        "df['Region']=region #adding new column region"
      ]
    },
    {
      "cell_type": "code",
      "execution_count": null,
      "metadata": {
        "colab": {
          "base_uri": "https://localhost:8080/"
        },
        "id": "yr0HvE4Kjdo2",
        "outputId": "e8a9255d-167c-4d7a-bc81-4943227275d3"
      },
      "outputs": [
        {
          "data": {
            "text/plain": [
              "0"
            ]
          },
          "execution_count": 10,
          "metadata": {},
          "output_type": "execute_result"
        }
      ],
      "source": [
        "df['Region'].isnull().sum() #everything got a value for region"
      ]
    },
    {
      "cell_type": "code",
      "execution_count": null,
      "metadata": {
        "colab": {
          "base_uri": "https://localhost:8080/",
          "height": 389
        },
        "id": "IBxQfzwXuMqR",
        "outputId": "0cb9829a-9552-4c0d-b8f3-4e5ef98a443b"
      },
      "outputs": [
        {
          "data": {
            "text/html": [
              "\n",
              "  <div id=\"df-688beec0-6806-4b8c-9ac1-0d819c308038\">\n",
              "    <div class=\"colab-df-container\">\n",
              "      <div>\n",
              "<style scoped>\n",
              "    .dataframe tbody tr th:only-of-type {\n",
              "        vertical-align: middle;\n",
              "    }\n",
              "\n",
              "    .dataframe tbody tr th {\n",
              "        vertical-align: top;\n",
              "    }\n",
              "\n",
              "    .dataframe thead th {\n",
              "        text-align: right;\n",
              "    }\n",
              "</style>\n",
              "<table border=\"1\" class=\"dataframe\">\n",
              "  <thead>\n",
              "    <tr style=\"text-align: right;\">\n",
              "      <th></th>\n",
              "      <th>Country name</th>\n",
              "      <th>year</th>\n",
              "      <th>Life Ladder</th>\n",
              "      <th>Log GDP per capita</th>\n",
              "      <th>Social support</th>\n",
              "      <th>Healthy life expectancy at birth</th>\n",
              "      <th>Freedom to make life choices</th>\n",
              "      <th>Generosity</th>\n",
              "      <th>Perceptions of corruption</th>\n",
              "      <th>Positive affect</th>\n",
              "      <th>Negative affect</th>\n",
              "      <th>Region</th>\n",
              "    </tr>\n",
              "  </thead>\n",
              "  <tbody>\n",
              "    <tr>\n",
              "      <th>0</th>\n",
              "      <td>Afghanistan</td>\n",
              "      <td>2008</td>\n",
              "      <td>3.724</td>\n",
              "      <td>7.370</td>\n",
              "      <td>0.451</td>\n",
              "      <td>50.80</td>\n",
              "      <td>0.718</td>\n",
              "      <td>0.168</td>\n",
              "      <td>0.882</td>\n",
              "      <td>0.518</td>\n",
              "      <td>0.258</td>\n",
              "      <td>Asia &amp; Pacific</td>\n",
              "    </tr>\n",
              "    <tr>\n",
              "      <th>1</th>\n",
              "      <td>Afghanistan</td>\n",
              "      <td>2009</td>\n",
              "      <td>4.402</td>\n",
              "      <td>7.540</td>\n",
              "      <td>0.552</td>\n",
              "      <td>51.20</td>\n",
              "      <td>0.679</td>\n",
              "      <td>0.190</td>\n",
              "      <td>0.850</td>\n",
              "      <td>0.584</td>\n",
              "      <td>0.237</td>\n",
              "      <td>Asia &amp; Pacific</td>\n",
              "    </tr>\n",
              "    <tr>\n",
              "      <th>2</th>\n",
              "      <td>Afghanistan</td>\n",
              "      <td>2010</td>\n",
              "      <td>4.758</td>\n",
              "      <td>7.647</td>\n",
              "      <td>0.539</td>\n",
              "      <td>51.60</td>\n",
              "      <td>0.600</td>\n",
              "      <td>0.121</td>\n",
              "      <td>0.707</td>\n",
              "      <td>0.618</td>\n",
              "      <td>0.275</td>\n",
              "      <td>Asia &amp; Pacific</td>\n",
              "    </tr>\n",
              "    <tr>\n",
              "      <th>3</th>\n",
              "      <td>Afghanistan</td>\n",
              "      <td>2011</td>\n",
              "      <td>3.832</td>\n",
              "      <td>7.620</td>\n",
              "      <td>0.521</td>\n",
              "      <td>51.92</td>\n",
              "      <td>0.496</td>\n",
              "      <td>0.162</td>\n",
              "      <td>0.731</td>\n",
              "      <td>0.611</td>\n",
              "      <td>0.267</td>\n",
              "      <td>Asia &amp; Pacific</td>\n",
              "    </tr>\n",
              "    <tr>\n",
              "      <th>4</th>\n",
              "      <td>Afghanistan</td>\n",
              "      <td>2012</td>\n",
              "      <td>3.783</td>\n",
              "      <td>7.705</td>\n",
              "      <td>0.521</td>\n",
              "      <td>52.24</td>\n",
              "      <td>0.531</td>\n",
              "      <td>0.236</td>\n",
              "      <td>0.776</td>\n",
              "      <td>0.710</td>\n",
              "      <td>0.268</td>\n",
              "      <td>Asia &amp; Pacific</td>\n",
              "    </tr>\n",
              "  </tbody>\n",
              "</table>\n",
              "</div>\n",
              "      <button class=\"colab-df-convert\" onclick=\"convertToInteractive('df-688beec0-6806-4b8c-9ac1-0d819c308038')\"\n",
              "              title=\"Convert this dataframe to an interactive table.\"\n",
              "              style=\"display:none;\">\n",
              "        \n",
              "  <svg xmlns=\"http://www.w3.org/2000/svg\" height=\"24px\"viewBox=\"0 0 24 24\"\n",
              "       width=\"24px\">\n",
              "    <path d=\"M0 0h24v24H0V0z\" fill=\"none\"/>\n",
              "    <path d=\"M18.56 5.44l.94 2.06.94-2.06 2.06-.94-2.06-.94-.94-2.06-.94 2.06-2.06.94zm-11 1L8.5 8.5l.94-2.06 2.06-.94-2.06-.94L8.5 2.5l-.94 2.06-2.06.94zm10 10l.94 2.06.94-2.06 2.06-.94-2.06-.94-.94-2.06-.94 2.06-2.06.94z\"/><path d=\"M17.41 7.96l-1.37-1.37c-.4-.4-.92-.59-1.43-.59-.52 0-1.04.2-1.43.59L10.3 9.45l-7.72 7.72c-.78.78-.78 2.05 0 2.83L4 21.41c.39.39.9.59 1.41.59.51 0 1.02-.2 1.41-.59l7.78-7.78 2.81-2.81c.8-.78.8-2.07 0-2.86zM5.41 20L4 18.59l7.72-7.72 1.47 1.35L5.41 20z\"/>\n",
              "  </svg>\n",
              "      </button>\n",
              "      \n",
              "  <style>\n",
              "    .colab-df-container {\n",
              "      display:flex;\n",
              "      flex-wrap:wrap;\n",
              "      gap: 12px;\n",
              "    }\n",
              "\n",
              "    .colab-df-convert {\n",
              "      background-color: #E8F0FE;\n",
              "      border: none;\n",
              "      border-radius: 50%;\n",
              "      cursor: pointer;\n",
              "      display: none;\n",
              "      fill: #1967D2;\n",
              "      height: 32px;\n",
              "      padding: 0 0 0 0;\n",
              "      width: 32px;\n",
              "    }\n",
              "\n",
              "    .colab-df-convert:hover {\n",
              "      background-color: #E2EBFA;\n",
              "      box-shadow: 0px 1px 2px rgba(60, 64, 67, 0.3), 0px 1px 3px 1px rgba(60, 64, 67, 0.15);\n",
              "      fill: #174EA6;\n",
              "    }\n",
              "\n",
              "    [theme=dark] .colab-df-convert {\n",
              "      background-color: #3B4455;\n",
              "      fill: #D2E3FC;\n",
              "    }\n",
              "\n",
              "    [theme=dark] .colab-df-convert:hover {\n",
              "      background-color: #434B5C;\n",
              "      box-shadow: 0px 1px 3px 1px rgba(0, 0, 0, 0.15);\n",
              "      filter: drop-shadow(0px 1px 2px rgba(0, 0, 0, 0.3));\n",
              "      fill: #FFFFFF;\n",
              "    }\n",
              "  </style>\n",
              "\n",
              "      <script>\n",
              "        const buttonEl =\n",
              "          document.querySelector('#df-688beec0-6806-4b8c-9ac1-0d819c308038 button.colab-df-convert');\n",
              "        buttonEl.style.display =\n",
              "          google.colab.kernel.accessAllowed ? 'block' : 'none';\n",
              "\n",
              "        async function convertToInteractive(key) {\n",
              "          const element = document.querySelector('#df-688beec0-6806-4b8c-9ac1-0d819c308038');\n",
              "          const dataTable =\n",
              "            await google.colab.kernel.invokeFunction('convertToInteractive',\n",
              "                                                     [key], {});\n",
              "          if (!dataTable) return;\n",
              "\n",
              "          const docLinkHtml = 'Like what you see? Visit the ' +\n",
              "            '<a target=\"_blank\" href=https://colab.research.google.com/notebooks/data_table.ipynb>data table notebook</a>'\n",
              "            + ' to learn more about interactive tables.';\n",
              "          element.innerHTML = '';\n",
              "          dataTable['output_type'] = 'display_data';\n",
              "          await google.colab.output.renderOutput(dataTable, element);\n",
              "          const docLink = document.createElement('div');\n",
              "          docLink.innerHTML = docLinkHtml;\n",
              "          element.appendChild(docLink);\n",
              "        }\n",
              "      </script>\n",
              "    </div>\n",
              "  </div>\n",
              "  "
            ],
            "text/plain": [
              "  Country name  year  Life Ladder  Log GDP per capita  Social support  \\\n",
              "0  Afghanistan  2008        3.724               7.370           0.451   \n",
              "1  Afghanistan  2009        4.402               7.540           0.552   \n",
              "2  Afghanistan  2010        4.758               7.647           0.539   \n",
              "3  Afghanistan  2011        3.832               7.620           0.521   \n",
              "4  Afghanistan  2012        3.783               7.705           0.521   \n",
              "\n",
              "   Healthy life expectancy at birth  Freedom to make life choices  Generosity  \\\n",
              "0                             50.80                         0.718       0.168   \n",
              "1                             51.20                         0.679       0.190   \n",
              "2                             51.60                         0.600       0.121   \n",
              "3                             51.92                         0.496       0.162   \n",
              "4                             52.24                         0.531       0.236   \n",
              "\n",
              "   Perceptions of corruption  Positive affect  Negative affect          Region  \n",
              "0                      0.882            0.518            0.258  Asia & Pacific  \n",
              "1                      0.850            0.584            0.237  Asia & Pacific  \n",
              "2                      0.707            0.618            0.275  Asia & Pacific  \n",
              "3                      0.731            0.611            0.267  Asia & Pacific  \n",
              "4                      0.776            0.710            0.268  Asia & Pacific  "
            ]
          },
          "execution_count": 11,
          "metadata": {},
          "output_type": "execute_result"
        }
      ],
      "source": [
        "df.head()"
      ]
    },
    {
      "cell_type": "markdown",
      "metadata": {
        "id": "yC6iVMYq5gcA"
      },
      "source": [
        "#Fill bold textnull values with mean score of the column"
      ]
    },
    {
      "cell_type": "code",
      "execution_count": null,
      "metadata": {
        "id": "255OE0OX5QZE"
      },
      "outputs": [],
      "source": [
        "for column in df.drop(['Country name', 'Region'],axis=1).columns:\n",
        "  df[column] = df[column].fillna(df.groupby('Region')[column].transform('mean'))"
      ]
    },
    {
      "cell_type": "markdown",
      "metadata": {
        "id": "dw1T1nZcnjRt"
      },
      "source": [
        "#One Hot Encoding Region"
      ]
    },
    {
      "cell_type": "code",
      "execution_count": null,
      "metadata": {
        "id": "oDmypFYA8HfQ"
      },
      "outputs": [],
      "source": [
        "df_onehot=pd.get_dummies(df['Region'])"
      ]
    },
    {
      "cell_type": "code",
      "execution_count": null,
      "metadata": {
        "colab": {
          "base_uri": "https://localhost:8080/",
          "height": 502
        },
        "id": "dl9GewYA8dqi",
        "outputId": "e83aa6e7-f54c-494d-f3a4-1adad2139471"
      },
      "outputs": [
        {
          "data": {
            "text/html": [
              "\n",
              "  <div id=\"df-74dc6db9-21b8-4cbd-b922-36bb13ff7d93\">\n",
              "    <div class=\"colab-df-container\">\n",
              "      <div>\n",
              "<style scoped>\n",
              "    .dataframe tbody tr th:only-of-type {\n",
              "        vertical-align: middle;\n",
              "    }\n",
              "\n",
              "    .dataframe tbody tr th {\n",
              "        vertical-align: top;\n",
              "    }\n",
              "\n",
              "    .dataframe thead th {\n",
              "        text-align: right;\n",
              "    }\n",
              "</style>\n",
              "<table border=\"1\" class=\"dataframe\">\n",
              "  <thead>\n",
              "    <tr style=\"text-align: right;\">\n",
              "      <th></th>\n",
              "      <th>Country name</th>\n",
              "      <th>year</th>\n",
              "      <th>Life Ladder</th>\n",
              "      <th>Log GDP per capita</th>\n",
              "      <th>Social support</th>\n",
              "      <th>Healthy life expectancy at birth</th>\n",
              "      <th>Freedom to make life choices</th>\n",
              "      <th>Generosity</th>\n",
              "      <th>Perceptions of corruption</th>\n",
              "      <th>Positive affect</th>\n",
              "      <th>Negative affect</th>\n",
              "    </tr>\n",
              "  </thead>\n",
              "  <tbody>\n",
              "    <tr>\n",
              "      <th>0</th>\n",
              "      <td>Afghanistan</td>\n",
              "      <td>2008</td>\n",
              "      <td>3.724</td>\n",
              "      <td>7.370</td>\n",
              "      <td>0.451</td>\n",
              "      <td>50.80</td>\n",
              "      <td>0.718</td>\n",
              "      <td>0.168</td>\n",
              "      <td>0.882</td>\n",
              "      <td>0.518</td>\n",
              "      <td>0.258</td>\n",
              "    </tr>\n",
              "    <tr>\n",
              "      <th>1</th>\n",
              "      <td>Afghanistan</td>\n",
              "      <td>2009</td>\n",
              "      <td>4.402</td>\n",
              "      <td>7.540</td>\n",
              "      <td>0.552</td>\n",
              "      <td>51.20</td>\n",
              "      <td>0.679</td>\n",
              "      <td>0.190</td>\n",
              "      <td>0.850</td>\n",
              "      <td>0.584</td>\n",
              "      <td>0.237</td>\n",
              "    </tr>\n",
              "    <tr>\n",
              "      <th>2</th>\n",
              "      <td>Afghanistan</td>\n",
              "      <td>2010</td>\n",
              "      <td>4.758</td>\n",
              "      <td>7.647</td>\n",
              "      <td>0.539</td>\n",
              "      <td>51.60</td>\n",
              "      <td>0.600</td>\n",
              "      <td>0.121</td>\n",
              "      <td>0.707</td>\n",
              "      <td>0.618</td>\n",
              "      <td>0.275</td>\n",
              "    </tr>\n",
              "    <tr>\n",
              "      <th>3</th>\n",
              "      <td>Afghanistan</td>\n",
              "      <td>2011</td>\n",
              "      <td>3.832</td>\n",
              "      <td>7.620</td>\n",
              "      <td>0.521</td>\n",
              "      <td>51.92</td>\n",
              "      <td>0.496</td>\n",
              "      <td>0.162</td>\n",
              "      <td>0.731</td>\n",
              "      <td>0.611</td>\n",
              "      <td>0.267</td>\n",
              "    </tr>\n",
              "    <tr>\n",
              "      <th>4</th>\n",
              "      <td>Afghanistan</td>\n",
              "      <td>2012</td>\n",
              "      <td>3.783</td>\n",
              "      <td>7.705</td>\n",
              "      <td>0.521</td>\n",
              "      <td>52.24</td>\n",
              "      <td>0.531</td>\n",
              "      <td>0.236</td>\n",
              "      <td>0.776</td>\n",
              "      <td>0.710</td>\n",
              "      <td>0.268</td>\n",
              "    </tr>\n",
              "    <tr>\n",
              "      <th>...</th>\n",
              "      <td>...</td>\n",
              "      <td>...</td>\n",
              "      <td>...</td>\n",
              "      <td>...</td>\n",
              "      <td>...</td>\n",
              "      <td>...</td>\n",
              "      <td>...</td>\n",
              "      <td>...</td>\n",
              "      <td>...</td>\n",
              "      <td>...</td>\n",
              "      <td>...</td>\n",
              "    </tr>\n",
              "    <tr>\n",
              "      <th>1944</th>\n",
              "      <td>Zimbabwe</td>\n",
              "      <td>2016</td>\n",
              "      <td>3.735</td>\n",
              "      <td>7.984</td>\n",
              "      <td>0.768</td>\n",
              "      <td>54.40</td>\n",
              "      <td>0.733</td>\n",
              "      <td>-0.095</td>\n",
              "      <td>0.724</td>\n",
              "      <td>0.738</td>\n",
              "      <td>0.209</td>\n",
              "    </tr>\n",
              "    <tr>\n",
              "      <th>1945</th>\n",
              "      <td>Zimbabwe</td>\n",
              "      <td>2017</td>\n",
              "      <td>3.638</td>\n",
              "      <td>8.016</td>\n",
              "      <td>0.754</td>\n",
              "      <td>55.00</td>\n",
              "      <td>0.753</td>\n",
              "      <td>-0.098</td>\n",
              "      <td>0.751</td>\n",
              "      <td>0.806</td>\n",
              "      <td>0.224</td>\n",
              "    </tr>\n",
              "    <tr>\n",
              "      <th>1946</th>\n",
              "      <td>Zimbabwe</td>\n",
              "      <td>2018</td>\n",
              "      <td>3.616</td>\n",
              "      <td>8.049</td>\n",
              "      <td>0.775</td>\n",
              "      <td>55.60</td>\n",
              "      <td>0.763</td>\n",
              "      <td>-0.068</td>\n",
              "      <td>0.844</td>\n",
              "      <td>0.710</td>\n",
              "      <td>0.212</td>\n",
              "    </tr>\n",
              "    <tr>\n",
              "      <th>1947</th>\n",
              "      <td>Zimbabwe</td>\n",
              "      <td>2019</td>\n",
              "      <td>2.694</td>\n",
              "      <td>7.950</td>\n",
              "      <td>0.759</td>\n",
              "      <td>56.20</td>\n",
              "      <td>0.632</td>\n",
              "      <td>-0.064</td>\n",
              "      <td>0.831</td>\n",
              "      <td>0.716</td>\n",
              "      <td>0.235</td>\n",
              "    </tr>\n",
              "    <tr>\n",
              "      <th>1948</th>\n",
              "      <td>Zimbabwe</td>\n",
              "      <td>2020</td>\n",
              "      <td>3.160</td>\n",
              "      <td>7.829</td>\n",
              "      <td>0.717</td>\n",
              "      <td>56.80</td>\n",
              "      <td>0.643</td>\n",
              "      <td>-0.009</td>\n",
              "      <td>0.789</td>\n",
              "      <td>0.703</td>\n",
              "      <td>0.346</td>\n",
              "    </tr>\n",
              "  </tbody>\n",
              "</table>\n",
              "<p>1949 rows × 11 columns</p>\n",
              "</div>\n",
              "      <button class=\"colab-df-convert\" onclick=\"convertToInteractive('df-74dc6db9-21b8-4cbd-b922-36bb13ff7d93')\"\n",
              "              title=\"Convert this dataframe to an interactive table.\"\n",
              "              style=\"display:none;\">\n",
              "        \n",
              "  <svg xmlns=\"http://www.w3.org/2000/svg\" height=\"24px\"viewBox=\"0 0 24 24\"\n",
              "       width=\"24px\">\n",
              "    <path d=\"M0 0h24v24H0V0z\" fill=\"none\"/>\n",
              "    <path d=\"M18.56 5.44l.94 2.06.94-2.06 2.06-.94-2.06-.94-.94-2.06-.94 2.06-2.06.94zm-11 1L8.5 8.5l.94-2.06 2.06-.94-2.06-.94L8.5 2.5l-.94 2.06-2.06.94zm10 10l.94 2.06.94-2.06 2.06-.94-2.06-.94-.94-2.06-.94 2.06-2.06.94z\"/><path d=\"M17.41 7.96l-1.37-1.37c-.4-.4-.92-.59-1.43-.59-.52 0-1.04.2-1.43.59L10.3 9.45l-7.72 7.72c-.78.78-.78 2.05 0 2.83L4 21.41c.39.39.9.59 1.41.59.51 0 1.02-.2 1.41-.59l7.78-7.78 2.81-2.81c.8-.78.8-2.07 0-2.86zM5.41 20L4 18.59l7.72-7.72 1.47 1.35L5.41 20z\"/>\n",
              "  </svg>\n",
              "      </button>\n",
              "      \n",
              "  <style>\n",
              "    .colab-df-container {\n",
              "      display:flex;\n",
              "      flex-wrap:wrap;\n",
              "      gap: 12px;\n",
              "    }\n",
              "\n",
              "    .colab-df-convert {\n",
              "      background-color: #E8F0FE;\n",
              "      border: none;\n",
              "      border-radius: 50%;\n",
              "      cursor: pointer;\n",
              "      display: none;\n",
              "      fill: #1967D2;\n",
              "      height: 32px;\n",
              "      padding: 0 0 0 0;\n",
              "      width: 32px;\n",
              "    }\n",
              "\n",
              "    .colab-df-convert:hover {\n",
              "      background-color: #E2EBFA;\n",
              "      box-shadow: 0px 1px 2px rgba(60, 64, 67, 0.3), 0px 1px 3px 1px rgba(60, 64, 67, 0.15);\n",
              "      fill: #174EA6;\n",
              "    }\n",
              "\n",
              "    [theme=dark] .colab-df-convert {\n",
              "      background-color: #3B4455;\n",
              "      fill: #D2E3FC;\n",
              "    }\n",
              "\n",
              "    [theme=dark] .colab-df-convert:hover {\n",
              "      background-color: #434B5C;\n",
              "      box-shadow: 0px 1px 3px 1px rgba(0, 0, 0, 0.15);\n",
              "      filter: drop-shadow(0px 1px 2px rgba(0, 0, 0, 0.3));\n",
              "      fill: #FFFFFF;\n",
              "    }\n",
              "  </style>\n",
              "\n",
              "      <script>\n",
              "        const buttonEl =\n",
              "          document.querySelector('#df-74dc6db9-21b8-4cbd-b922-36bb13ff7d93 button.colab-df-convert');\n",
              "        buttonEl.style.display =\n",
              "          google.colab.kernel.accessAllowed ? 'block' : 'none';\n",
              "\n",
              "        async function convertToInteractive(key) {\n",
              "          const element = document.querySelector('#df-74dc6db9-21b8-4cbd-b922-36bb13ff7d93');\n",
              "          const dataTable =\n",
              "            await google.colab.kernel.invokeFunction('convertToInteractive',\n",
              "                                                     [key], {});\n",
              "          if (!dataTable) return;\n",
              "\n",
              "          const docLinkHtml = 'Like what you see? Visit the ' +\n",
              "            '<a target=\"_blank\" href=https://colab.research.google.com/notebooks/data_table.ipynb>data table notebook</a>'\n",
              "            + ' to learn more about interactive tables.';\n",
              "          element.innerHTML = '';\n",
              "          dataTable['output_type'] = 'display_data';\n",
              "          await google.colab.output.renderOutput(dataTable, element);\n",
              "          const docLink = document.createElement('div');\n",
              "          docLink.innerHTML = docLinkHtml;\n",
              "          element.appendChild(docLink);\n",
              "        }\n",
              "      </script>\n",
              "    </div>\n",
              "  </div>\n",
              "  "
            ],
            "text/plain": [
              "     Country name  year  Life Ladder  Log GDP per capita  Social support  \\\n",
              "0     Afghanistan  2008        3.724               7.370           0.451   \n",
              "1     Afghanistan  2009        4.402               7.540           0.552   \n",
              "2     Afghanistan  2010        4.758               7.647           0.539   \n",
              "3     Afghanistan  2011        3.832               7.620           0.521   \n",
              "4     Afghanistan  2012        3.783               7.705           0.521   \n",
              "...           ...   ...          ...                 ...             ...   \n",
              "1944     Zimbabwe  2016        3.735               7.984           0.768   \n",
              "1945     Zimbabwe  2017        3.638               8.016           0.754   \n",
              "1946     Zimbabwe  2018        3.616               8.049           0.775   \n",
              "1947     Zimbabwe  2019        2.694               7.950           0.759   \n",
              "1948     Zimbabwe  2020        3.160               7.829           0.717   \n",
              "\n",
              "      Healthy life expectancy at birth  Freedom to make life choices  \\\n",
              "0                                50.80                         0.718   \n",
              "1                                51.20                         0.679   \n",
              "2                                51.60                         0.600   \n",
              "3                                51.92                         0.496   \n",
              "4                                52.24                         0.531   \n",
              "...                                ...                           ...   \n",
              "1944                             54.40                         0.733   \n",
              "1945                             55.00                         0.753   \n",
              "1946                             55.60                         0.763   \n",
              "1947                             56.20                         0.632   \n",
              "1948                             56.80                         0.643   \n",
              "\n",
              "      Generosity  Perceptions of corruption  Positive affect  Negative affect  \n",
              "0          0.168                      0.882            0.518            0.258  \n",
              "1          0.190                      0.850            0.584            0.237  \n",
              "2          0.121                      0.707            0.618            0.275  \n",
              "3          0.162                      0.731            0.611            0.267  \n",
              "4          0.236                      0.776            0.710            0.268  \n",
              "...          ...                        ...              ...              ...  \n",
              "1944      -0.095                      0.724            0.738            0.209  \n",
              "1945      -0.098                      0.751            0.806            0.224  \n",
              "1946      -0.068                      0.844            0.710            0.212  \n",
              "1947      -0.064                      0.831            0.716            0.235  \n",
              "1948      -0.009                      0.789            0.703            0.346  \n",
              "\n",
              "[1949 rows x 11 columns]"
            ]
          },
          "execution_count": 14,
          "metadata": {},
          "output_type": "execute_result"
        }
      ],
      "source": [
        "df.drop('Region',inplace=True, axis=1)\n",
        "df"
      ]
    },
    {
      "cell_type": "code",
      "execution_count": null,
      "metadata": {
        "id": "tvL8uV2-8_1l"
      },
      "outputs": [],
      "source": [
        "df=df.join(df_onehot)"
      ]
    },
    {
      "cell_type": "markdown",
      "metadata": {
        "id": "1tEezqua62ar"
      },
      "source": [
        "Country name - Irrelevant"
      ]
    },
    {
      "cell_type": "code",
      "execution_count": null,
      "metadata": {
        "colab": {
          "base_uri": "https://localhost:8080/",
          "height": 540
        },
        "id": "5Xh55b4T9cO_",
        "outputId": "1861daa9-7f4b-41de-edf9-ec809367ca0a"
      },
      "outputs": [
        {
          "data": {
            "text/html": [
              "\n",
              "  <div id=\"df-1113df62-82f0-4b5b-9103-230759e2650c\">\n",
              "    <div class=\"colab-df-container\">\n",
              "      <div>\n",
              "<style scoped>\n",
              "    .dataframe tbody tr th:only-of-type {\n",
              "        vertical-align: middle;\n",
              "    }\n",
              "\n",
              "    .dataframe tbody tr th {\n",
              "        vertical-align: top;\n",
              "    }\n",
              "\n",
              "    .dataframe thead th {\n",
              "        text-align: right;\n",
              "    }\n",
              "</style>\n",
              "<table border=\"1\" class=\"dataframe\">\n",
              "  <thead>\n",
              "    <tr style=\"text-align: right;\">\n",
              "      <th></th>\n",
              "      <th>year</th>\n",
              "      <th>Life Ladder</th>\n",
              "      <th>Log GDP per capita</th>\n",
              "      <th>Social support</th>\n",
              "      <th>Healthy life expectancy at birth</th>\n",
              "      <th>Freedom to make life choices</th>\n",
              "      <th>Generosity</th>\n",
              "      <th>Perceptions of corruption</th>\n",
              "      <th>Positive affect</th>\n",
              "      <th>Negative affect</th>\n",
              "      <th>Africa</th>\n",
              "      <th>Arab States</th>\n",
              "      <th>Asia &amp; Pacific</th>\n",
              "      <th>Europe</th>\n",
              "      <th>Middle east</th>\n",
              "      <th>North Africa</th>\n",
              "      <th>North America</th>\n",
              "      <th>South/Central America</th>\n",
              "      <th>South/Latin America</th>\n",
              "    </tr>\n",
              "  </thead>\n",
              "  <tbody>\n",
              "    <tr>\n",
              "      <th>0</th>\n",
              "      <td>2008</td>\n",
              "      <td>3.724</td>\n",
              "      <td>7.370</td>\n",
              "      <td>0.451</td>\n",
              "      <td>50.80</td>\n",
              "      <td>0.718</td>\n",
              "      <td>0.168</td>\n",
              "      <td>0.882</td>\n",
              "      <td>0.518</td>\n",
              "      <td>0.258</td>\n",
              "      <td>0</td>\n",
              "      <td>0</td>\n",
              "      <td>1</td>\n",
              "      <td>0</td>\n",
              "      <td>0</td>\n",
              "      <td>0</td>\n",
              "      <td>0</td>\n",
              "      <td>0</td>\n",
              "      <td>0</td>\n",
              "    </tr>\n",
              "    <tr>\n",
              "      <th>1</th>\n",
              "      <td>2009</td>\n",
              "      <td>4.402</td>\n",
              "      <td>7.540</td>\n",
              "      <td>0.552</td>\n",
              "      <td>51.20</td>\n",
              "      <td>0.679</td>\n",
              "      <td>0.190</td>\n",
              "      <td>0.850</td>\n",
              "      <td>0.584</td>\n",
              "      <td>0.237</td>\n",
              "      <td>0</td>\n",
              "      <td>0</td>\n",
              "      <td>1</td>\n",
              "      <td>0</td>\n",
              "      <td>0</td>\n",
              "      <td>0</td>\n",
              "      <td>0</td>\n",
              "      <td>0</td>\n",
              "      <td>0</td>\n",
              "    </tr>\n",
              "    <tr>\n",
              "      <th>2</th>\n",
              "      <td>2010</td>\n",
              "      <td>4.758</td>\n",
              "      <td>7.647</td>\n",
              "      <td>0.539</td>\n",
              "      <td>51.60</td>\n",
              "      <td>0.600</td>\n",
              "      <td>0.121</td>\n",
              "      <td>0.707</td>\n",
              "      <td>0.618</td>\n",
              "      <td>0.275</td>\n",
              "      <td>0</td>\n",
              "      <td>0</td>\n",
              "      <td>1</td>\n",
              "      <td>0</td>\n",
              "      <td>0</td>\n",
              "      <td>0</td>\n",
              "      <td>0</td>\n",
              "      <td>0</td>\n",
              "      <td>0</td>\n",
              "    </tr>\n",
              "    <tr>\n",
              "      <th>3</th>\n",
              "      <td>2011</td>\n",
              "      <td>3.832</td>\n",
              "      <td>7.620</td>\n",
              "      <td>0.521</td>\n",
              "      <td>51.92</td>\n",
              "      <td>0.496</td>\n",
              "      <td>0.162</td>\n",
              "      <td>0.731</td>\n",
              "      <td>0.611</td>\n",
              "      <td>0.267</td>\n",
              "      <td>0</td>\n",
              "      <td>0</td>\n",
              "      <td>1</td>\n",
              "      <td>0</td>\n",
              "      <td>0</td>\n",
              "      <td>0</td>\n",
              "      <td>0</td>\n",
              "      <td>0</td>\n",
              "      <td>0</td>\n",
              "    </tr>\n",
              "    <tr>\n",
              "      <th>4</th>\n",
              "      <td>2012</td>\n",
              "      <td>3.783</td>\n",
              "      <td>7.705</td>\n",
              "      <td>0.521</td>\n",
              "      <td>52.24</td>\n",
              "      <td>0.531</td>\n",
              "      <td>0.236</td>\n",
              "      <td>0.776</td>\n",
              "      <td>0.710</td>\n",
              "      <td>0.268</td>\n",
              "      <td>0</td>\n",
              "      <td>0</td>\n",
              "      <td>1</td>\n",
              "      <td>0</td>\n",
              "      <td>0</td>\n",
              "      <td>0</td>\n",
              "      <td>0</td>\n",
              "      <td>0</td>\n",
              "      <td>0</td>\n",
              "    </tr>\n",
              "    <tr>\n",
              "      <th>...</th>\n",
              "      <td>...</td>\n",
              "      <td>...</td>\n",
              "      <td>...</td>\n",
              "      <td>...</td>\n",
              "      <td>...</td>\n",
              "      <td>...</td>\n",
              "      <td>...</td>\n",
              "      <td>...</td>\n",
              "      <td>...</td>\n",
              "      <td>...</td>\n",
              "      <td>...</td>\n",
              "      <td>...</td>\n",
              "      <td>...</td>\n",
              "      <td>...</td>\n",
              "      <td>...</td>\n",
              "      <td>...</td>\n",
              "      <td>...</td>\n",
              "      <td>...</td>\n",
              "      <td>...</td>\n",
              "    </tr>\n",
              "    <tr>\n",
              "      <th>1944</th>\n",
              "      <td>2016</td>\n",
              "      <td>3.735</td>\n",
              "      <td>7.984</td>\n",
              "      <td>0.768</td>\n",
              "      <td>54.40</td>\n",
              "      <td>0.733</td>\n",
              "      <td>-0.095</td>\n",
              "      <td>0.724</td>\n",
              "      <td>0.738</td>\n",
              "      <td>0.209</td>\n",
              "      <td>1</td>\n",
              "      <td>0</td>\n",
              "      <td>0</td>\n",
              "      <td>0</td>\n",
              "      <td>0</td>\n",
              "      <td>0</td>\n",
              "      <td>0</td>\n",
              "      <td>0</td>\n",
              "      <td>0</td>\n",
              "    </tr>\n",
              "    <tr>\n",
              "      <th>1945</th>\n",
              "      <td>2017</td>\n",
              "      <td>3.638</td>\n",
              "      <td>8.016</td>\n",
              "      <td>0.754</td>\n",
              "      <td>55.00</td>\n",
              "      <td>0.753</td>\n",
              "      <td>-0.098</td>\n",
              "      <td>0.751</td>\n",
              "      <td>0.806</td>\n",
              "      <td>0.224</td>\n",
              "      <td>1</td>\n",
              "      <td>0</td>\n",
              "      <td>0</td>\n",
              "      <td>0</td>\n",
              "      <td>0</td>\n",
              "      <td>0</td>\n",
              "      <td>0</td>\n",
              "      <td>0</td>\n",
              "      <td>0</td>\n",
              "    </tr>\n",
              "    <tr>\n",
              "      <th>1946</th>\n",
              "      <td>2018</td>\n",
              "      <td>3.616</td>\n",
              "      <td>8.049</td>\n",
              "      <td>0.775</td>\n",
              "      <td>55.60</td>\n",
              "      <td>0.763</td>\n",
              "      <td>-0.068</td>\n",
              "      <td>0.844</td>\n",
              "      <td>0.710</td>\n",
              "      <td>0.212</td>\n",
              "      <td>1</td>\n",
              "      <td>0</td>\n",
              "      <td>0</td>\n",
              "      <td>0</td>\n",
              "      <td>0</td>\n",
              "      <td>0</td>\n",
              "      <td>0</td>\n",
              "      <td>0</td>\n",
              "      <td>0</td>\n",
              "    </tr>\n",
              "    <tr>\n",
              "      <th>1947</th>\n",
              "      <td>2019</td>\n",
              "      <td>2.694</td>\n",
              "      <td>7.950</td>\n",
              "      <td>0.759</td>\n",
              "      <td>56.20</td>\n",
              "      <td>0.632</td>\n",
              "      <td>-0.064</td>\n",
              "      <td>0.831</td>\n",
              "      <td>0.716</td>\n",
              "      <td>0.235</td>\n",
              "      <td>1</td>\n",
              "      <td>0</td>\n",
              "      <td>0</td>\n",
              "      <td>0</td>\n",
              "      <td>0</td>\n",
              "      <td>0</td>\n",
              "      <td>0</td>\n",
              "      <td>0</td>\n",
              "      <td>0</td>\n",
              "    </tr>\n",
              "    <tr>\n",
              "      <th>1948</th>\n",
              "      <td>2020</td>\n",
              "      <td>3.160</td>\n",
              "      <td>7.829</td>\n",
              "      <td>0.717</td>\n",
              "      <td>56.80</td>\n",
              "      <td>0.643</td>\n",
              "      <td>-0.009</td>\n",
              "      <td>0.789</td>\n",
              "      <td>0.703</td>\n",
              "      <td>0.346</td>\n",
              "      <td>1</td>\n",
              "      <td>0</td>\n",
              "      <td>0</td>\n",
              "      <td>0</td>\n",
              "      <td>0</td>\n",
              "      <td>0</td>\n",
              "      <td>0</td>\n",
              "      <td>0</td>\n",
              "      <td>0</td>\n",
              "    </tr>\n",
              "  </tbody>\n",
              "</table>\n",
              "<p>1949 rows × 19 columns</p>\n",
              "</div>\n",
              "      <button class=\"colab-df-convert\" onclick=\"convertToInteractive('df-1113df62-82f0-4b5b-9103-230759e2650c')\"\n",
              "              title=\"Convert this dataframe to an interactive table.\"\n",
              "              style=\"display:none;\">\n",
              "        \n",
              "  <svg xmlns=\"http://www.w3.org/2000/svg\" height=\"24px\"viewBox=\"0 0 24 24\"\n",
              "       width=\"24px\">\n",
              "    <path d=\"M0 0h24v24H0V0z\" fill=\"none\"/>\n",
              "    <path d=\"M18.56 5.44l.94 2.06.94-2.06 2.06-.94-2.06-.94-.94-2.06-.94 2.06-2.06.94zm-11 1L8.5 8.5l.94-2.06 2.06-.94-2.06-.94L8.5 2.5l-.94 2.06-2.06.94zm10 10l.94 2.06.94-2.06 2.06-.94-2.06-.94-.94-2.06-.94 2.06-2.06.94z\"/><path d=\"M17.41 7.96l-1.37-1.37c-.4-.4-.92-.59-1.43-.59-.52 0-1.04.2-1.43.59L10.3 9.45l-7.72 7.72c-.78.78-.78 2.05 0 2.83L4 21.41c.39.39.9.59 1.41.59.51 0 1.02-.2 1.41-.59l7.78-7.78 2.81-2.81c.8-.78.8-2.07 0-2.86zM5.41 20L4 18.59l7.72-7.72 1.47 1.35L5.41 20z\"/>\n",
              "  </svg>\n",
              "      </button>\n",
              "      \n",
              "  <style>\n",
              "    .colab-df-container {\n",
              "      display:flex;\n",
              "      flex-wrap:wrap;\n",
              "      gap: 12px;\n",
              "    }\n",
              "\n",
              "    .colab-df-convert {\n",
              "      background-color: #E8F0FE;\n",
              "      border: none;\n",
              "      border-radius: 50%;\n",
              "      cursor: pointer;\n",
              "      display: none;\n",
              "      fill: #1967D2;\n",
              "      height: 32px;\n",
              "      padding: 0 0 0 0;\n",
              "      width: 32px;\n",
              "    }\n",
              "\n",
              "    .colab-df-convert:hover {\n",
              "      background-color: #E2EBFA;\n",
              "      box-shadow: 0px 1px 2px rgba(60, 64, 67, 0.3), 0px 1px 3px 1px rgba(60, 64, 67, 0.15);\n",
              "      fill: #174EA6;\n",
              "    }\n",
              "\n",
              "    [theme=dark] .colab-df-convert {\n",
              "      background-color: #3B4455;\n",
              "      fill: #D2E3FC;\n",
              "    }\n",
              "\n",
              "    [theme=dark] .colab-df-convert:hover {\n",
              "      background-color: #434B5C;\n",
              "      box-shadow: 0px 1px 3px 1px rgba(0, 0, 0, 0.15);\n",
              "      filter: drop-shadow(0px 1px 2px rgba(0, 0, 0, 0.3));\n",
              "      fill: #FFFFFF;\n",
              "    }\n",
              "  </style>\n",
              "\n",
              "      <script>\n",
              "        const buttonEl =\n",
              "          document.querySelector('#df-1113df62-82f0-4b5b-9103-230759e2650c button.colab-df-convert');\n",
              "        buttonEl.style.display =\n",
              "          google.colab.kernel.accessAllowed ? 'block' : 'none';\n",
              "\n",
              "        async function convertToInteractive(key) {\n",
              "          const element = document.querySelector('#df-1113df62-82f0-4b5b-9103-230759e2650c');\n",
              "          const dataTable =\n",
              "            await google.colab.kernel.invokeFunction('convertToInteractive',\n",
              "                                                     [key], {});\n",
              "          if (!dataTable) return;\n",
              "\n",
              "          const docLinkHtml = 'Like what you see? Visit the ' +\n",
              "            '<a target=\"_blank\" href=https://colab.research.google.com/notebooks/data_table.ipynb>data table notebook</a>'\n",
              "            + ' to learn more about interactive tables.';\n",
              "          element.innerHTML = '';\n",
              "          dataTable['output_type'] = 'display_data';\n",
              "          await google.colab.output.renderOutput(dataTable, element);\n",
              "          const docLink = document.createElement('div');\n",
              "          docLink.innerHTML = docLinkHtml;\n",
              "          element.appendChild(docLink);\n",
              "        }\n",
              "      </script>\n",
              "    </div>\n",
              "  </div>\n",
              "  "
            ],
            "text/plain": [
              "      year  Life Ladder  Log GDP per capita  Social support  \\\n",
              "0     2008        3.724               7.370           0.451   \n",
              "1     2009        4.402               7.540           0.552   \n",
              "2     2010        4.758               7.647           0.539   \n",
              "3     2011        3.832               7.620           0.521   \n",
              "4     2012        3.783               7.705           0.521   \n",
              "...    ...          ...                 ...             ...   \n",
              "1944  2016        3.735               7.984           0.768   \n",
              "1945  2017        3.638               8.016           0.754   \n",
              "1946  2018        3.616               8.049           0.775   \n",
              "1947  2019        2.694               7.950           0.759   \n",
              "1948  2020        3.160               7.829           0.717   \n",
              "\n",
              "      Healthy life expectancy at birth  Freedom to make life choices  \\\n",
              "0                                50.80                         0.718   \n",
              "1                                51.20                         0.679   \n",
              "2                                51.60                         0.600   \n",
              "3                                51.92                         0.496   \n",
              "4                                52.24                         0.531   \n",
              "...                                ...                           ...   \n",
              "1944                             54.40                         0.733   \n",
              "1945                             55.00                         0.753   \n",
              "1946                             55.60                         0.763   \n",
              "1947                             56.20                         0.632   \n",
              "1948                             56.80                         0.643   \n",
              "\n",
              "      Generosity  Perceptions of corruption  Positive affect  Negative affect  \\\n",
              "0          0.168                      0.882            0.518            0.258   \n",
              "1          0.190                      0.850            0.584            0.237   \n",
              "2          0.121                      0.707            0.618            0.275   \n",
              "3          0.162                      0.731            0.611            0.267   \n",
              "4          0.236                      0.776            0.710            0.268   \n",
              "...          ...                        ...              ...              ...   \n",
              "1944      -0.095                      0.724            0.738            0.209   \n",
              "1945      -0.098                      0.751            0.806            0.224   \n",
              "1946      -0.068                      0.844            0.710            0.212   \n",
              "1947      -0.064                      0.831            0.716            0.235   \n",
              "1948      -0.009                      0.789            0.703            0.346   \n",
              "\n",
              "      Africa  Arab States  Asia & Pacific  Europe  Middle east  North Africa  \\\n",
              "0          0            0               1       0            0             0   \n",
              "1          0            0               1       0            0             0   \n",
              "2          0            0               1       0            0             0   \n",
              "3          0            0               1       0            0             0   \n",
              "4          0            0               1       0            0             0   \n",
              "...      ...          ...             ...     ...          ...           ...   \n",
              "1944       1            0               0       0            0             0   \n",
              "1945       1            0               0       0            0             0   \n",
              "1946       1            0               0       0            0             0   \n",
              "1947       1            0               0       0            0             0   \n",
              "1948       1            0               0       0            0             0   \n",
              "\n",
              "      North America  South/Central America  South/Latin America  \n",
              "0                 0                      0                    0  \n",
              "1                 0                      0                    0  \n",
              "2                 0                      0                    0  \n",
              "3                 0                      0                    0  \n",
              "4                 0                      0                    0  \n",
              "...             ...                    ...                  ...  \n",
              "1944              0                      0                    0  \n",
              "1945              0                      0                    0  \n",
              "1946              0                      0                    0  \n",
              "1947              0                      0                    0  \n",
              "1948              0                      0                    0  \n",
              "\n",
              "[1949 rows x 19 columns]"
            ]
          },
          "execution_count": 16,
          "metadata": {},
          "output_type": "execute_result"
        }
      ],
      "source": [
        "df.drop('Country name', inplace=True,axis=1)\n",
        "df"
      ]
    },
    {
      "cell_type": "markdown",
      "metadata": {
        "id": "d1MRqmhR5SWe"
      },
      "source": [
        "**Split data and target**"
      ]
    },
    {
      "cell_type": "markdown",
      "metadata": {
        "id": "OZKsHPrO_DMM"
      },
      "source": [
        "Predicting Life Ladder-Happiness score or subjective well-being. This is the national average response to the question of life evaluations."
      ]
    },
    {
      "cell_type": "code",
      "execution_count": null,
      "metadata": {
        "id": "nwJ1WNFV-5Ak"
      },
      "outputs": [],
      "source": [
        "X=df.drop('Life Ladder', axis=1)\n",
        "y=df['Life Ladder']"
      ]
    },
    {
      "cell_type": "markdown",
      "metadata": {
        "id": "GR_4DFWP1PsF"
      },
      "source": [
        "#**PCA**"
      ]
    },
    {
      "cell_type": "markdown",
      "metadata": {
        "id": "yotzG1EG2p9Q"
      },
      "source": [
        "Correlation"
      ]
    },
    {
      "cell_type": "code",
      "execution_count": null,
      "metadata": {
        "colab": {
          "base_uri": "https://localhost:8080/",
          "height": 417
        },
        "id": "hcoHmYfV2pip",
        "outputId": "435c1f21-0692-44c3-a6dc-a165d6f1eb54"
      },
      "outputs": [
        {
          "data": {
            "image/png": "[encoded data removed]",
            "text/plain": [
              "<Figure size 432x288 with 2 Axes>"
            ]
          },
          "metadata": {},
          "output_type": "display_data"
        }
      ],
      "source": [
        "import seaborn as sns\n",
        "sns.heatmap(df.corr());"
      ]
    },
    {
      "cell_type": "markdown",
      "metadata": {
        "id": "Yz7_9yK4-FVT"
      },
      "source": [
        "#**Implementing the model**"
      ]
    },
    {
      "cell_type": "markdown",
      "metadata": {
        "id": "BXc3yPnn_wFV"
      },
      "source": [
        "Splitting Data to train and test"
      ]
    },
    {
      "cell_type": "code",
      "execution_count": null,
      "metadata": {
        "id": "Pq0E-dAY_0ig"
      },
      "outputs": [],
      "source": [
        "from sklearn.model_selection import train_test_split\n",
        "X_train, X_test, y_train, y_test = train_test_split( X, y, test_size=0.3, random_state=42, shuffle=True)"
      ]
    },
    {
      "cell_type": "markdown",
      "metadata": {
        "id": "rtN0ji3W17l9"
      },
      "source": [
        "##Standard Scaling"
      ]
    },
    {
      "cell_type": "code",
      "execution_count": null,
      "metadata": {
        "id": "YcBPBp-c1PSs"
      },
      "outputs": [],
      "source": [
        "from sklearn.preprocessing import StandardScaler\n",
        "# Standardizing the features\n",
        "scaler=StandardScaler()\n",
        "X_train = scaler.fit_transform(X_train)\n",
        "X_test=scaler.transform(X_test)"
      ]
    },
    {
      "cell_type": "markdown",
      "metadata": {
        "id": "QmgR6NWqjXuE"
      },
      "source": [
        "##Min Max Scaling"
      ]
    },
    {
      "cell_type": "code",
      "execution_count": null,
      "metadata": {
        "id": "1cZFOt7ujWIV"
      },
      "outputs": [],
      "source": [
        "# from sklearn.preprocessing import  MinMaxScaler\n",
        "# scaler= MinMaxScaler()\n",
        "# X_train = scaler.fit_transform(X_train)\n",
        "# X_test=scaler.transform(X_test)"
      ]
    },
    {
      "cell_type": "markdown",
      "metadata": {
        "id": "bfbY9uI92Vf-"
      },
      "source": [
        "##PCA with 0.95 variance"
      ]
    },
    {
      "cell_type": "code",
      "execution_count": null,
      "metadata": {
        "id": "h0pfVUMu22eG"
      },
      "outputs": [],
      "source": [
        "from sklearn.decomposition import PCA\n",
        "pca = PCA(0.95)\n",
        "principalComponents = pca.fit_transform(X_train)\n",
        "X_train = pd.DataFrame(data = principalComponents)"
      ]
    },
    {
      "cell_type": "code",
      "execution_count": null,
      "metadata": {
        "colab": {
          "base_uri": "https://localhost:8080/"
        },
        "id": "TCwodmN1evaA",
        "outputId": "3f24b5b6-182d-4fb6-85d0-5b4a09d7cbe7"
      },
      "outputs": [
        {
          "data": {
            "text/html": [
              "\n",
              "  <div id=\"df-d4e3f7c1-736e-4f44-bc0e-2e8c6973d46e\">\n",
              "    <div class=\"colab-df-container\">\n",
              "      <div>\n",
              "<style scoped>\n",
              "    .dataframe tbody tr th:only-of-type {\n",
              "        vertical-align: middle;\n",
              "    }\n",
              "\n",
              "    .dataframe tbody tr th {\n",
              "        vertical-align: top;\n",
              "    }\n",
              "\n",
              "    .dataframe thead th {\n",
              "        text-align: right;\n",
              "    }\n",
              "</style>\n",
              "<table border=\"1\" class=\"dataframe\">\n",
              "  <thead>\n",
              "    <tr style=\"text-align: right;\">\n",
              "      <th></th>\n",
              "      <th>0</th>\n",
              "      <th>1</th>\n",
              "      <th>2</th>\n",
              "      <th>3</th>\n",
              "      <th>4</th>\n",
              "      <th>5</th>\n",
              "      <th>6</th>\n",
              "      <th>7</th>\n",
              "      <th>8</th>\n",
              "      <th>9</th>\n",
              "      <th>10</th>\n",
              "      <th>11</th>\n",
              "      <th>12</th>\n",
              "    </tr>\n",
              "  </thead>\n",
              "  <tbody>\n",
              "    <tr>\n",
              "      <th>0</th>\n",
              "      <td>2.664158</td>\n",
              "      <td>0.568397</td>\n",
              "      <td>0.492957</td>\n",
              "      <td>1.465257</td>\n",
              "      <td>0.506789</td>\n",
              "      <td>-0.254175</td>\n",
              "      <td>-0.352493</td>\n",
              "      <td>-0.094213</td>\n",
              "      <td>-0.425789</td>\n",
              "      <td>0.207629</td>\n",
              "      <td>-0.108691</td>\n",
              "      <td>-0.242703</td>\n",
              "      <td>-0.902540</td>\n",
              "    </tr>\n",
              "    <tr>\n",
              "      <th>1</th>\n",
              "      <td>-0.336817</td>\n",
              "      <td>0.610556</td>\n",
              "      <td>-1.532786</td>\n",
              "      <td>-1.251407</td>\n",
              "      <td>-1.064341</td>\n",
              "      <td>0.367503</td>\n",
              "      <td>-0.332714</td>\n",
              "      <td>0.134343</td>\n",
              "      <td>-0.038829</td>\n",
              "      <td>-0.473206</td>\n",
              "      <td>-1.688747</td>\n",
              "      <td>0.772398</td>\n",
              "      <td>0.136821</td>\n",
              "    </tr>\n",
              "    <tr>\n",
              "      <th>2</th>\n",
              "      <td>0.150767</td>\n",
              "      <td>-2.238435</td>\n",
              "      <td>-0.102649</td>\n",
              "      <td>0.137669</td>\n",
              "      <td>-0.396701</td>\n",
              "      <td>-0.165108</td>\n",
              "      <td>-0.584914</td>\n",
              "      <td>-0.028122</td>\n",
              "      <td>0.213298</td>\n",
              "      <td>0.737190</td>\n",
              "      <td>0.107576</td>\n",
              "      <td>-0.377050</td>\n",
              "      <td>-0.400288</td>\n",
              "    </tr>\n",
              "    <tr>\n",
              "      <th>3</th>\n",
              "      <td>2.229183</td>\n",
              "      <td>0.743171</td>\n",
              "      <td>-1.690471</td>\n",
              "      <td>-1.352333</td>\n",
              "      <td>0.786107</td>\n",
              "      <td>0.594094</td>\n",
              "      <td>-0.537509</td>\n",
              "      <td>0.043861</td>\n",
              "      <td>-0.076574</td>\n",
              "      <td>0.925546</td>\n",
              "      <td>0.844942</td>\n",
              "      <td>0.837008</td>\n",
              "      <td>0.936564</td>\n",
              "    </tr>\n",
              "    <tr>\n",
              "      <th>4</th>\n",
              "      <td>-0.771548</td>\n",
              "      <td>-2.715020</td>\n",
              "      <td>-0.682226</td>\n",
              "      <td>0.711810</td>\n",
              "      <td>-0.616639</td>\n",
              "      <td>0.316365</td>\n",
              "      <td>-0.589228</td>\n",
              "      <td>0.078846</td>\n",
              "      <td>-0.154370</td>\n",
              "      <td>0.180400</td>\n",
              "      <td>-1.321006</td>\n",
              "      <td>0.053379</td>\n",
              "      <td>0.513542</td>\n",
              "    </tr>\n",
              "  </tbody>\n",
              "</table>\n",
              "</div>\n",
              "      <button class=\"colab-df-convert\" onclick=\"convertToInteractive('df-d4e3f7c1-736e-4f44-bc0e-2e8c6973d46e')\"\n",
              "              title=\"Convert this dataframe to an interactive table.\"\n",
              "              style=\"display:none;\">\n",
              "        \n",
              "  <svg xmlns=\"http://www.w3.org/2000/svg\" height=\"24px\"viewBox=\"0 0 24 24\"\n",
              "       width=\"24px\">\n",
              "    <path d=\"M0 0h24v24H0V0z\" fill=\"none\"/>\n",
              "    <path d=\"M18.56 5.44l.94 2.06.94-2.06 2.06-.94-2.06-.94-.94-2.06-.94 2.06-2.06.94zm-11 1L8.5 8.5l.94-2.06 2.06-.94-2.06-.94L8.5 2.5l-.94 2.06-2.06.94zm10 10l.94 2.06.94-2.06 2.06-.94-2.06-.94-.94-2.06-.94 2.06-2.06.94z\"/><path d=\"M17.41 7.96l-1.37-1.37c-.4-.4-.92-.59-1.43-.59-.52 0-1.04.2-1.43.59L10.3 9.45l-7.72 7.72c-.78.78-.78 2.05 0 2.83L4 21.41c.39.39.9.59 1.41.59.51 0 1.02-.2 1.41-.59l7.78-7.78 2.81-2.81c.8-.78.8-2.07 0-2.86zM5.41 20L4 18.59l7.72-7.72 1.47 1.35L5.41 20z\"/>\n",
              "  </svg>\n",
              "      </button>\n",
              "      \n",
              "  <style>\n",
              "    .colab-df-container {\n",
              "      display:flex;\n",
              "      flex-wrap:wrap;\n",
              "      gap: 12px;\n",
              "    }\n",
              "\n",
              "    .colab-df-convert {\n",
              "      background-color: #E8F0FE;\n",
              "      border: none;\n",
              "      border-radius: 50%;\n",
              "      cursor: pointer;\n",
              "      display: none;\n",
              "      fill: #1967D2;\n",
              "      height: 32px;\n",
              "      padding: 0 0 0 0;\n",
              "      width: 32px;\n",
              "    }\n",
              "\n",
              "    .colab-df-convert:hover {\n",
              "      background-color: #E2EBFA;\n",
              "      box-shadow: 0px 1px 2px rgba(60, 64, 67, 0.3), 0px 1px 3px 1px rgba(60, 64, 67, 0.15);\n",
              "      fill: #174EA6;\n",
              "    }\n",
              "\n",
              "    [theme=dark] .colab-df-convert {\n",
              "      background-color: #3B4455;\n",
              "      fill: #D2E3FC;\n",
              "    }\n",
              "\n",
              "    [theme=dark] .colab-df-convert:hover {\n",
              "      background-color: #434B5C;\n",
              "      box-shadow: 0px 1px 3px 1px rgba(0, 0, 0, 0.15);\n",
              "      filter: drop-shadow(0px 1px 2px rgba(0, 0, 0, 0.3));\n",
              "      fill: #FFFFFF;\n",
              "    }\n",
              "  </style>\n",
              "\n",
              "      <script>\n",
              "        const buttonEl =\n",
              "          document.querySelector('#df-d4e3f7c1-736e-4f44-bc0e-2e8c6973d46e button.colab-df-convert');\n",
              "        buttonEl.style.display =\n",
              "          google.colab.kernel.accessAllowed ? 'block' : 'none';\n",
              "\n",
              "        async function convertToInteractive(key) {\n",
              "          const element = document.querySelector('#df-d4e3f7c1-736e-4f44-bc0e-2e8c6973d46e');\n",
              "          const dataTable =\n",
              "            await google.colab.kernel.invokeFunction('convertToInteractive',\n",
              "                                                     [key], {});\n",
              "          if (!dataTable) return;\n",
              "\n",
              "          const docLinkHtml = 'Like what you see? Visit the ' +\n",
              "            '<a target=\"_blank\" href=https://colab.research.google.com/notebooks/data_table.ipynb>data table notebook</a>'\n",
              "            + ' to learn more about interactive tables.';\n",
              "          element.innerHTML = '';\n",
              "          dataTable['output_type'] = 'display_data';\n",
              "          await google.colab.output.renderOutput(dataTable, element);\n",
              "          const docLink = document.createElement('div');\n",
              "          docLink.innerHTML = docLinkHtml;\n",
              "          element.appendChild(docLink);\n",
              "        }\n",
              "      </script>\n",
              "    </div>\n",
              "  </div>\n",
              "  "
            ],
            "text/plain": [
              "         0         1         2         3         4         5         6   \\\n",
              "0  2.664158  0.568397  0.492957  1.465257  0.506789 -0.254175 -0.352493   \n",
              "1 -0.336817  0.610556 -1.532786 -1.251407 -1.064341  0.367503 -0.332714   \n",
              "2  0.150767 -2.238435 -0.102649  0.137669 -0.396701 -0.165108 -0.584914   \n",
              "3  2.229183  0.743171 -1.690471 -1.352333  0.786107  0.594094 -0.537509   \n",
              "4 -0.771548 -2.715020 -0.682226  0.711810 -0.616639  0.316365 -0.589228   \n",
              "\n",
              "         7         8         9         10        11        12  \n",
              "0 -0.094213 -0.425789  0.207629 -0.108691 -0.242703 -0.902540  \n",
              "1  0.134343 -0.038829 -0.473206 -1.688747  0.772398  0.136821  \n",
              "2 -0.028122  0.213298  0.737190  0.107576 -0.377050 -0.400288  \n",
              "3  0.043861 -0.076574  0.925546  0.844942  0.837008  0.936564  \n",
              "4  0.078846 -0.154370  0.180400 -1.321006  0.053379  0.513542  "
            ]
          },
          "execution_count": 23,
          "metadata": {},
          "output_type": "execute_result"
        }
      ],
      "source": [
        "X_train.head()"
      ]
    },
    {
      "cell_type": "code",
      "execution_count": null,
      "metadata": {
        "id": "V3LaXBrUVzdQ"
      },
      "outputs": [],
      "source": [
        "X_test=pca.transform(X_test) #decopositing "
      ]
    },
    {
      "cell_type": "code",
      "execution_count": null,
      "metadata": {
        "colab": {
          "base_uri": "https://localhost:8080/"
        },
        "id": "p4xh4mtrhkhM",
        "outputId": "87bb51ed-bd44-412f-999b-b599dcde4f67"
      },
      "outputs": [
        {
          "data": {
            "text/plain": [
              "0     4.021333\n",
              "1     2.160830\n",
              "2     1.435878\n",
              "3     1.311573\n",
              "4     1.287508\n",
              "5     1.107175\n",
              "6     1.080604\n",
              "7     1.017098\n",
              "8     1.001387\n",
              "9     0.946966\n",
              "10    0.749292\n",
              "11    0.612711\n",
              "12    0.393243\n",
              "dtype: float64"
            ]
          },
          "execution_count": 25,
          "metadata": {},
          "output_type": "execute_result"
        }
      ],
      "source": [
        "X_train.var()"
      ]
    },
    {
      "cell_type": "markdown",
      "metadata": {
        "id": "NNYlyQcmIWS7"
      },
      "source": [
        "##Kernel Poly"
      ]
    },
    {
      "cell_type": "code",
      "execution_count": null,
      "metadata": {
        "colab": {
          "base_uri": "https://localhost:8080/"
        },
        "id": "WkxFsw2AIWBY",
        "outputId": "5d887487-5b12-4b71-eab4-712f26c6abfb"
      },
      "outputs": [
        {
          "data": {
            "text/plain": [
              "0"
            ]
          },
          "execution_count": 26,
          "metadata": {},
          "output_type": "execute_result"
        }
      ],
      "source": [
        "start = dt.now()\n",
        "svr_poly = SVR(kernel=\"poly\")\n",
        "svr_poly.fit(X_train, y_train)\n",
        "running_secs = (dt.now() - start).seconds\n",
        "running_secs"
      ]
    },
    {
      "cell_type": "markdown",
      "metadata": {
        "id": "UmwvbYcrIdF2"
      },
      "source": [
        "##Kerner Linear"
      ]
    },
    {
      "cell_type": "code",
      "execution_count": null,
      "metadata": {
        "colab": {
          "base_uri": "https://localhost:8080/"
        },
        "id": "nmUNkbTWIf4P",
        "outputId": "ed5a2873-62ed-4286-cdca-938b3a6aa2e8"
      },
      "outputs": [
        {
          "data": {
            "text/plain": [
              "0"
            ]
          },
          "execution_count": 27,
          "metadata": {},
          "output_type": "execute_result"
        }
      ],
      "source": [
        "start = dt.now()\n",
        "svr_lin = SVR(kernel=\"linear\")\n",
        "svr_lin.fit(X_train, y_train)\n",
        "running_secs = (dt.now() - start).seconds\n",
        "running_secs"
      ]
    },
    {
      "cell_type": "markdown",
      "metadata": {
        "id": "13LODl1DIgg5"
      },
      "source": [
        "##Kernel RBF"
      ]
    },
    {
      "cell_type": "code",
      "execution_count": null,
      "metadata": {
        "colab": {
          "base_uri": "https://localhost:8080/"
        },
        "id": "vj1ijjhNIoWN",
        "outputId": "5f60331b-93cf-42b5-b476-f322d1d3ceef"
      },
      "outputs": [
        {
          "data": {
            "text/plain": [
              "0"
            ]
          },
          "execution_count": 28,
          "metadata": {},
          "output_type": "execute_result"
        }
      ],
      "source": [
        "start = dt.now()\n",
        "svr_rbf = SVR(kernel=\"rbf\")\n",
        "svr_rbf.fit(X_train, y_train)\n",
        "running_secs = (dt.now() - start).seconds\n",
        "running_secs"
      ]
    },
    {
      "cell_type": "markdown",
      "metadata": {
        "id": "_9b3tPb9AHm0"
      },
      "source": [
        "##Grid Search for SVR"
      ]
    },
    {
      "cell_type": "markdown",
      "metadata": {
        "id": "cg6ZvpAIssAa"
      },
      "source": [
        "RBF"
      ]
    },
    {
      "cell_type": "code",
      "execution_count": null,
      "metadata": {
        "id": "MqG4ysEGx_je"
      },
      "outputs": [],
      "source": [
        "tuned_parameters = [\n",
        "     {'C': [ 0.5, 1,5,7,10,100], \n",
        "      'gamma': [1, 0.75, 0.5, 0.1, 0.01],\n",
        "      'kernel': ['rbf']      \n",
        "     }\n",
        "]\n",
        "\n",
        "grid_search_rbf = GridSearchCV(estimator = SVR(), param_grid = tuned_parameters, \n",
        "                      cv = 3, n_jobs = -1)"
      ]
    },
    {
      "cell_type": "code",
      "execution_count": null,
      "metadata": {
        "colab": {
          "base_uri": "https://localhost:8080/"
        },
        "id": "wdiJqUKjGfiR",
        "outputId": "29621e91-0a4f-4725-b304-b9f5852d57d5"
      },
      "outputs": [
        {
          "data": {
            "text/plain": [
              "12"
            ]
          },
          "execution_count": 30,
          "metadata": {},
          "output_type": "execute_result"
        }
      ],
      "source": [
        "start = dt.now()\n",
        "grid_search_rbf.fit(X_train, y_train)\n",
        "running_secs = (dt.now() - start).seconds\n",
        "running_secs"
      ]
    },
    {
      "cell_type": "code",
      "execution_count": null,
      "metadata": {
        "colab": {
          "base_uri": "https://localhost:8080/"
        },
        "id": "6wKdsbZhySvw",
        "outputId": "7edb8bbf-76ac-40ff-c029-0671158fcafe"
      },
      "outputs": [
        {
          "data": {
            "text/plain": [
              "{'C': 5, 'gamma': 0.1, 'kernel': 'rbf'}"
            ]
          },
          "execution_count": 31,
          "metadata": {},
          "output_type": "execute_result"
        }
      ],
      "source": [
        "grid_search_rbf.best_params_ "
      ]
    },
    {
      "cell_type": "markdown",
      "metadata": {
        "id": "UG6XTYG7s04d"
      },
      "source": [
        "Linear"
      ]
    },
    {
      "cell_type": "code",
      "execution_count": null,
      "metadata": {
        "id": "LMt0nVFKs0Pl"
      },
      "outputs": [],
      "source": [
        "tuned_parameters = [\n",
        "     {'C': [ 0.5, 1,5,7,8,10,100], \n",
        "      'kernel': ['linear']     \n",
        "     }\n",
        "]\n",
        "\n",
        "grid_search_lin = GridSearchCV(estimator = SVR(), param_grid = tuned_parameters, \n",
        "                      cv = 3, n_jobs = -1)"
      ]
    },
    {
      "cell_type": "code",
      "execution_count": null,
      "metadata": {
        "colab": {
          "base_uri": "https://localhost:8080/"
        },
        "id": "Aa1pGynEtBK7",
        "outputId": "da09f7f4-32da-4fd2-9a62-687a5b34e6c8"
      },
      "outputs": [
        {
          "data": {
            "text/plain": [
              "21"
            ]
          },
          "execution_count": 33,
          "metadata": {},
          "output_type": "execute_result"
        }
      ],
      "source": [
        "start = dt.now()\n",
        "grid_search_lin.fit(X_train, y_train)\n",
        "running_secs = (dt.now() - start).seconds\n",
        "running_secs"
      ]
    },
    {
      "cell_type": "code",
      "execution_count": null,
      "metadata": {
        "colab": {
          "base_uri": "https://localhost:8080/"
        },
        "id": "5IrKDd_WtBe7",
        "outputId": "388403ff-4cfa-4904-d501-379c5f341b14"
      },
      "outputs": [
        {
          "data": {
            "text/plain": [
              "{'C': 1, 'kernel': 'linear'}"
            ]
          },
          "execution_count": 34,
          "metadata": {},
          "output_type": "execute_result"
        }
      ],
      "source": [
        "grid_search_lin.best_params_ "
      ]
    },
    {
      "cell_type": "markdown",
      "metadata": {
        "id": "0iqWLamytL3V"
      },
      "source": [
        "poly"
      ]
    },
    {
      "cell_type": "code",
      "execution_count": null,
      "metadata": {
        "id": "HcoqTDs_tOtV"
      },
      "outputs": [],
      "source": [
        "tuned_parameters = [\n",
        "     {'C': [ 0.5, 1,5,7,10,100], \n",
        "      'gamma':['scale'],\n",
        "      'kernel': ['poly'],\n",
        "     }\n",
        "]\n",
        "\n",
        "grid_search_poly = GridSearchCV(estimator = SVR(), param_grid = tuned_parameters, \n",
        "                      cv = 3, n_jobs = -1)"
      ]
    },
    {
      "cell_type": "code",
      "execution_count": null,
      "metadata": {
        "colab": {
          "base_uri": "https://localhost:8080/"
        },
        "id": "aUXz3X6PtPLy",
        "outputId": "50cfedd4-3304-40cc-c411-9f1a9f8095c7"
      },
      "outputs": [
        {
          "data": {
            "text/plain": [
              "9"
            ]
          },
          "execution_count": 58,
          "metadata": {},
          "output_type": "execute_result"
        }
      ],
      "source": [
        "start = dt.now()\n",
        "grid_search_poly.fit(X_train, y_train)\n",
        "running_secs = (dt.now() - start).seconds\n",
        "running_secs"
      ]
    },
    {
      "cell_type": "code",
      "execution_count": null,
      "metadata": {
        "colab": {
          "base_uri": "https://localhost:8080/"
        },
        "id": "U5EjwqeKtPfk",
        "outputId": "c996a79f-4c19-4d68-b484-b293b2384cdc"
      },
      "outputs": [
        {
          "data": {
            "text/plain": [
              "{'C': 1, 'kernel': 'poly'}"
            ]
          },
          "execution_count": 37,
          "metadata": {},
          "output_type": "execute_result"
        }
      ],
      "source": [
        "grid_search_poly.best_params_ "
      ]
    },
    {
      "cell_type": "markdown",
      "metadata": {
        "id": "SYR6IXW3Ir9D"
      },
      "source": [
        "#**Predictions**"
      ]
    },
    {
      "cell_type": "markdown",
      "metadata": {
        "id": "-Jf4sdTTKmen"
      },
      "source": [
        "##Best kernel and parameters\n"
      ]
    },
    {
      "cell_type": "markdown",
      "metadata": {
        "id": "rtrWg6V9u1Kb"
      },
      "source": [
        "RBF"
      ]
    },
    {
      "cell_type": "code",
      "execution_count": null,
      "metadata": {
        "colab": {
          "base_uri": "https://localhost:8080/"
        },
        "id": "M1BouXxBBIuD",
        "outputId": "97f3c0c0-e7a6-47d5-be7f-8cd42f284fca"
      },
      "outputs": [
        {
          "data": {
            "text/plain": [
              "0"
            ]
          },
          "execution_count": 66,
          "metadata": {},
          "output_type": "execute_result"
        }
      ],
      "source": [
        "start = dt.now()\n",
        "rbf_best = SVR(kernel=\"rbf\", C=5, gamma=0.1)\n",
        "rbf_best.fit(X_train, y_train)\n",
        "running_secs = (dt.now() - start).seconds\n",
        "running_secs"
      ]
    },
    {
      "cell_type": "code",
      "execution_count": null,
      "metadata": {
        "id": "Dd6r8R7UPa7I"
      },
      "outputs": [],
      "source": [
        "y_pred_best=rbf_best.predict(X_test)"
      ]
    },
    {
      "cell_type": "code",
      "execution_count": null,
      "metadata": {
        "colab": {
          "base_uri": "https://localhost:8080/"
        },
        "id": "0AxDiF4lQ1xL",
        "outputId": "fcc624fc-e344-4200-de12-617994b60253"
      },
      "outputs": [
        {
          "data": {
            "text/plain": [
              "0.3191251101445684"
            ]
          },
          "execution_count": 68,
          "metadata": {},
          "output_type": "execute_result"
        }
      ],
      "source": [
        "from sklearn.metrics import mean_squared_error,mean_absolute_error\n",
        "mean_absolute_error(y_test, y_pred_best)"
      ]
    },
    {
      "cell_type": "code",
      "execution_count": null,
      "metadata": {
        "colab": {
          "base_uri": "https://localhost:8080/"
        },
        "id": "SlmWryzcP1Um",
        "outputId": "e76ee536-0ea1-4eec-c1d1-ad21527da9eb"
      },
      "outputs": [
        {
          "data": {
            "text/plain": [
              "0.8621844016624289"
            ]
          },
          "execution_count": 71,
          "metadata": {},
          "output_type": "execute_result"
        }
      ],
      "source": [
        "r2_score(y_test, y_pred_best)"
      ]
    },
    {
      "cell_type": "markdown",
      "metadata": {
        "id": "Bx5Ri2vohXXX"
      },
      "source": [
        "Prediction for training"
      ]
    },
    {
      "cell_type": "code",
      "execution_count": null,
      "metadata": {
        "colab": {
          "base_uri": "https://localhost:8080/"
        },
        "id": "bo8mWFdyhaTG",
        "outputId": "60a47fbc-3b09-45f2-9d79-1ada23c314b3"
      },
      "outputs": [
        {
          "data": {
            "text/plain": [
              "0.911635651180469"
            ]
          },
          "execution_count": 69,
          "metadata": {},
          "output_type": "execute_result"
        }
      ],
      "source": [
        "from sklearn.metrics import r2_score\n",
        "y_pred_train_rbf=rbf_best.predict(X_train)\n",
        "r2_score(y_train, y_pred_train_rbf)"
      ]
    },
    {
      "cell_type": "code",
      "execution_count": null,
      "metadata": {
        "colab": {
          "base_uri": "https://localhost:8080/"
        },
        "id": "LOECKxuDhjJc",
        "outputId": "2e1788d7-a4ac-4945-d405-b09806413ec3"
      },
      "outputs": [
        {
          "data": {
            "text/plain": [
              "0.2299352547214025"
            ]
          },
          "execution_count": 70,
          "metadata": {},
          "output_type": "execute_result"
        }
      ],
      "source": [
        "mean_absolute_error(y_train, y_pred_train_rbf)"
      ]
    },
    {
      "cell_type": "markdown",
      "metadata": {
        "id": "RtolXndYKpxB"
      },
      "source": [
        "##Other kernels and hyperparameters"
      ]
    },
    {
      "cell_type": "code",
      "execution_count": null,
      "metadata": {
        "colab": {
          "base_uri": "https://localhost:8080/"
        },
        "id": "kMFrsCsaKpEZ",
        "outputId": "8649d5c4-5a9f-40e8-fedd-f9e71885cac9"
      },
      "outputs": [
        {
          "name": "stdout",
          "output_type": "stream",
          "text": [
            "0.7708016379534125 0.4220173857676848\n"
          ]
        }
      ],
      "source": [
        "y_pred_lin=svr_lin.predict(X_test)\n",
        "print(r2_score(y_test, y_pred_lin),mean_absolute_error(y_test, y_pred_lin))"
      ]
    },
    {
      "cell_type": "code",
      "execution_count": null,
      "metadata": {
        "colab": {
          "base_uri": "https://localhost:8080/"
        },
        "id": "piHaifFdLD1L",
        "outputId": "229f4c17-28ca-4dcb-c4c9-e745188ccfe1"
      },
      "outputs": [
        {
          "name": "stdout",
          "output_type": "stream",
          "text": [
            "0.8424915519171385 0.34536426541353626\n"
          ]
        }
      ],
      "source": [
        "y_pred_rbf=svr_rbf.predict(X_test)\n",
        "print(r2_score(y_test, y_pred_rbf),mean_absolute_error(y_test, y_pred_rbf))"
      ]
    },
    {
      "cell_type": "code",
      "execution_count": null,
      "metadata": {
        "colab": {
          "base_uri": "https://localhost:8080/"
        },
        "id": "ev_OvouJLMVp",
        "outputId": "28b38e48-e777-4455-ead8-7612315e0d76"
      },
      "outputs": [
        {
          "name": "stdout",
          "output_type": "stream",
          "text": [
            "0.8233121462375059 0.37278483623150327\n"
          ]
        }
      ],
      "source": [
        "y_pred_poly=svr_poly.predict(X_test)\n",
        "print(r2_score(y_test, y_pred_poly),mean_absolute_error(y_test, y_pred_poly))"
      ]
    },
    {
      "cell_type": "code",
      "execution_count": null,
      "metadata": {
        "colab": {
          "base_uri": "https://localhost:8080/"
        },
        "id": "9BKvugW8NmQm",
        "outputId": "427ffdf8-21f9-4a50-d622-b31ded3bc620"
      },
      "outputs": [
        {
          "data": {
            "text/plain": [
              "{'C': 1.0,\n",
              " 'cache_size': 200,\n",
              " 'coef0': 0.0,\n",
              " 'degree': 3,\n",
              " 'epsilon': 0.1,\n",
              " 'gamma': 'scale',\n",
              " 'kernel': 'poly',\n",
              " 'max_iter': -1,\n",
              " 'shrinking': True,\n",
              " 'tol': 0.001,\n",
              " 'verbose': False}"
            ]
          },
          "execution_count": 64,
          "metadata": {},
          "output_type": "execute_result"
        }
      ],
      "source": [
        "svr_poly.get_params()"
      ]
    },
    {
      "cell_type": "markdown",
      "metadata": {
        "id": "Sy1doJPabJij"
      },
      "source": [
        "#KNN Implementation"
      ]
    },
    {
      "cell_type": "code",
      "execution_count": null,
      "metadata": {
        "id": "EcGncIkdbOvX"
      },
      "outputs": [],
      "source": [
        "from sklearn.neighbors import KNeighborsRegressor\n",
        "knn_model = KNeighborsRegressor(n_neighbors=5).fit(X_train, y_train)\n",
        "y_pred=knn_model.predict(X_test)"
      ]
    },
    {
      "cell_type": "code",
      "execution_count": null,
      "metadata": {
        "colab": {
          "base_uri": "https://localhost:8080/"
        },
        "id": "S0IqMUPBcKwM",
        "outputId": "885f15cf-5999-4b0c-d583-5782c33df425"
      },
      "outputs": [
        {
          "data": {
            "text/plain": [
              "0.8356218937413591"
            ]
          },
          "execution_count": 54,
          "metadata": {},
          "output_type": "execute_result"
        }
      ],
      "source": [
        "r2_score(y_test, y_pred)"
      ]
    },
    {
      "cell_type": "code",
      "execution_count": null,
      "metadata": {
        "colab": {
          "base_uri": "https://localhost:8080/"
        },
        "id": "UmXA2hpHZ8V9",
        "outputId": "e4dd40cd-7c4a-462d-8a8d-caaf2a7eb7a3"
      },
      "outputs": [
        {
          "data": {
            "text/plain": [
              "0.35636410256410256"
            ]
          },
          "execution_count": 55,
          "metadata": {},
          "output_type": "execute_result"
        }
      ],
      "source": [
        "mean_absolute_error(y_test, y_pred)"
      ]
    },
    {
      "cell_type": "code",
      "execution_count": null,
      "metadata": {
        "colab": {
          "base_uri": "https://localhost:8080/"
        },
        "id": "ZMUdrO2H570a",
        "outputId": "21ae1111-a1fa-41f4-d292-0cbd61970f73"
      },
      "outputs": [
        {
          "data": {
            "text/plain": [
              "0.05843496237704889"
            ]
          },
          "execution_count": 56,
          "metadata": {},
          "output_type": "execute_result"
        }
      ],
      "source": [
        "svr_rbf._gamma"
      ]
    }
  ],
  "metadata": {
    "colab": {
      "collapsed_sections": [
        "QmgR6NWqjXuE",
        "bfbY9uI92Vf-",
        "NNYlyQcmIWS7",
        "13LODl1DIgg5",
        "-Jf4sdTTKmen",
        "RtolXndYKpxB"
      ],
      "provenance": []
    },
    "gpuClass": "standard",
    "kernelspec": {
      "display_name": "Python 3",
      "name": "python3"
    },
    "language_info": {
      "name": "python"
    }
  },
  "nbformat": 4,
  "nbformat_minor": 0
}
